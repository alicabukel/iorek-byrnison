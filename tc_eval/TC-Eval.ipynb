{
 "cells": [
  {
   "cell_type": "markdown",
   "id": "8f2d324b-8e3f-4a3b-9972-53794fde912c",
   "metadata": {},
   "source": [
    "- Model1 Actual: gs://iorek-byrnison/tc-cicd-dir/out/trained_model_20220317_071935\n",
    "- Model2 Synthetic: gs://iorek-byrnison/tc-cicd-dir/out/trained_model_20220317_071952"
   ]
  },
  {
   "cell_type": "code",
   "execution_count": 16,
   "id": "03d21552-6e14-4d2f-a9fb-2153b32a5053",
   "metadata": {},
   "outputs": [
    {
     "name": "stdout",
     "output_type": "stream",
     "text": [
      "Copying gs://iorek-byrnison/tc-cicd-dir/data/tc-data/test.csv...\n",
      "/ [1 files][183.9 KiB/183.9 KiB]                                                \n",
      "Operation completed over 1 objects/183.9 KiB.                                    \n"
     ]
    }
   ],
   "source": [
    "!gsutil cp gs://iorek-byrnison/tc-cicd-dir/data/tc-data/test.csv ."
   ]
  },
  {
   "cell_type": "code",
   "execution_count": null,
   "id": "4e22d38e-4545-4c5f-a66f-76e754ffad09",
   "metadata": {},
   "outputs": [],
   "source": []
  },
  {
   "cell_type": "code",
   "execution_count": null,
   "id": "65ed7584-fb8d-4d2a-bb8a-9953c4aaf7f9",
   "metadata": {},
   "outputs": [],
   "source": []
  },
  {
   "cell_type": "code",
   "execution_count": 18,
   "id": "025252e6-2c7e-4bcc-adc4-7639a4f468eb",
   "metadata": {},
   "outputs": [
    {
     "name": "stdout",
     "output_type": "stream",
     "text": [
      "0967-BMLBD,Female,0,Yes,Yes,11,Yes,No,No,No internet service,No internet service,No internet service,No internet service,No internet service,No internet service,One year,Yes,Mailed check,20.0,196.35,No\n",
      "2361-FJWNO,Male,0,No,No,40,No,No phone service,DSL,No,Yes,No,Yes,No,No,One year,No,Credit card (automatic),36.0,1382.9,No\n",
      "9830-ECLEN,Male,0,Yes,Yes,58,No,No phone service,DSL,Yes,Yes,Yes,No,Yes,No,One year,No,Mailed check,50.0,2919.85,No\n",
      "3275-RHRNE,Male,0,Yes,Yes,28,No,No phone service,DSL,No,Yes,Yes,Yes,Yes,Yes,One year,Yes,Credit card (automatic),60.0,1682.05,No\n",
      "1183-CANVH,Female,0,Yes,No,23,Yes,No,DSL,No,No,No,Yes,Yes,No,One year,No,Bank transfer (automatic),60.0,1347.15,No\n",
      "1088-CNNKB,Male,0,Yes,No,63,Yes,Yes,DSL,Yes,Yes,Yes,Yes,No,Yes,One year,No,Credit card (automatic),80.0,5040.2,No\n",
      "0727-BMPLR,Female,1,No,No,55,Yes,Yes,Fiber optic,No,No,Yes,No,Yes,Yes,One year,Yes,Electronic check,100.0,5509.3,Yes\n",
      "0512-FLFDW,Female,1,Yes,No,60,Yes,Yes,Fiber optic,No,No,Yes,No,Yes,Yes,One year,Yes,Credit card (automatic),100.5,6029.0,No\n",
      "7013-PSXHK,Female,0,No,No,40,Yes,Yes,DSL,No,No,Yes,Yes,Yes,Yes,One year,Yes,Mailed check,80.75,3208.65,No\n",
      "3009-JWMPU,Male,0,No,No,62,Yes,Yes,Fiber optic,No,No,Yes,No,Yes,Yes,One year,Yes,Electronic check,96.75,6125.4,Yes\n"
     ]
    }
   ],
   "source": [
    "!head test.csv"
   ]
  },
  {
   "cell_type": "code",
   "execution_count": 28,
   "id": "091fff14-d653-4f00-8328-fd2d52203149",
   "metadata": {},
   "outputs": [],
   "source": [
    "import os, sys\n",
    "import tensorflow as tf\n",
    "sys.path.append(os.path.abspath('../tc_trainer/'))"
   ]
  },
  {
   "cell_type": "code",
   "execution_count": 48,
   "id": "9982871a-5095-42a6-9692-0c7c79b78b47",
   "metadata": {},
   "outputs": [],
   "source": [
    "from trainer.data import load_dataset\n",
    "testds = load_dataset('test.csv', 2000, num_repeat=1)"
   ]
  },
  {
   "cell_type": "code",
   "execution_count": null,
   "id": "0603e83a-a5ef-4cc3-ac5f-f1c963e4b006",
   "metadata": {},
   "outputs": [],
   "source": []
  },
  {
   "cell_type": "markdown",
   "id": "a163da0d-cea5-47ef-8032-b374bcd00a0a",
   "metadata": {},
   "source": [
    "### Base Line Model (actual dataset) against test data"
   ]
  },
  {
   "cell_type": "code",
   "execution_count": 132,
   "id": "ade05dcf-ee61-423f-a145-664b22b3431a",
   "metadata": {},
   "outputs": [
    {
     "name": "stdout",
     "output_type": "stream",
     "text": [
      "1/1 [==============================] - 1s 1s/step - loss: 0.6032 - accuracy: 0.6902\n"
     ]
    },
    {
     "data": {
      "text/plain": [
       "[0.6032319664955139, 0.6902016997337341]"
      ]
     },
     "execution_count": 132,
     "metadata": {},
     "output_type": "execute_result"
    }
   ],
   "source": [
    "model_path = 'gs://iorek-byrnison/tc-cicd-dir/out/trained_model_20220317_071935/savedmodel'\n",
    "base_line_model1 = tf.keras.models.load_model(model_path)\n",
    "base_line_model1.evaluate(testds)"
   ]
  },
  {
   "cell_type": "code",
   "execution_count": null,
   "id": "4b3f6592-6903-42a0-a444-432b683000f3",
   "metadata": {},
   "outputs": [],
   "source": []
  },
  {
   "cell_type": "markdown",
   "id": "07752cf0-7539-47b6-95d8-710ac6332888",
   "metadata": {},
   "source": [
    "### Base Line Model (synthetic dataset) against test data"
   ]
  },
  {
   "cell_type": "code",
   "execution_count": 133,
   "id": "ebac5e81-4293-40de-8e92-c62322a7b8c1",
   "metadata": {},
   "outputs": [
    {
     "name": "stdout",
     "output_type": "stream",
     "text": [
      "1/1 [==============================] - 1s 1s/step - loss: 0.6932 - accuracy: 0.7673\n"
     ]
    },
    {
     "data": {
      "text/plain": [
       "[0.6931938529014587, 0.7672910690307617]"
      ]
     },
     "execution_count": 133,
     "metadata": {},
     "output_type": "execute_result"
    }
   ],
   "source": [
    "model_path = 'gs://iorek-byrnison/tc-cicd-dir/out/trained_model_20220317_071952/savedmodel'\n",
    "base_line_model2 = tf.keras.models.load_model(model_path)\n",
    "base_line_model2.evaluate(testds)"
   ]
  },
  {
   "cell_type": "code",
   "execution_count": null,
   "id": "3a4c2ee0-1cef-454e-96a1-fcc28829c344",
   "metadata": {},
   "outputs": [],
   "source": []
  },
  {
   "cell_type": "markdown",
   "id": "77c05402-79d6-421c-8161-092853db9bf3",
   "metadata": {},
   "source": [
    "### Base Line Model (synthetic dataset) against test data - custom containers"
   ]
  },
  {
   "cell_type": "code",
   "execution_count": 134,
   "id": "8e4082b4-50c4-4c62-a7a7-17b7cf58f883",
   "metadata": {},
   "outputs": [
    {
     "name": "stdout",
     "output_type": "stream",
     "text": [
      "1/1 [==============================] - 1s 1s/step - loss: 0.6531 - accuracy: 0.7615\n"
     ]
    },
    {
     "data": {
      "text/plain": [
       "[0.6531007289886475, 0.7615273594856262]"
      ]
     },
     "execution_count": 134,
     "metadata": {},
     "output_type": "execute_result"
    }
   ],
   "source": [
    "model_path = 'gs://iorek-byrnison/tc-cicd-dir/out/trained_model_20220317_081921/savedmodel'\n",
    "base_line_model3 = tf.keras.models.load_model(model_path)\n",
    "base_line_model3.evaluate(testds)"
   ]
  },
  {
   "cell_type": "code",
   "execution_count": null,
   "id": "48a0a679-afa3-45b4-a9b3-e641e0bae55e",
   "metadata": {},
   "outputs": [],
   "source": []
  },
  {
   "cell_type": "markdown",
   "id": "fa3ef528-d287-417e-b556-ca13f9a1df8e",
   "metadata": {},
   "source": [
    "### HPT Model (synthetic dataset) against test data"
   ]
  },
  {
   "cell_type": "code",
   "execution_count": 135,
   "id": "99b224fe-a0fa-4908-a11e-aa49ab88bcd3",
   "metadata": {},
   "outputs": [
    {
     "name": "stdout",
     "output_type": "stream",
     "text": [
      "1/1 [==============================] - 3s 3s/step - loss: 0.8182 - accuracy: 0.7788\n"
     ]
    },
    {
     "data": {
      "text/plain": [
       "[0.8182476758956909, 0.7788184285163879]"
      ]
     },
     "execution_count": 135,
     "metadata": {},
     "output_type": "execute_result"
    }
   ],
   "source": [
    "model_path = 'gs://iorek-byrnison/tc-cicd-dir/out/tc_churn_hpt_model1/6/model/savedmodel'\n",
    "base_line_model4 = tf.keras.models.load_model(model_path)\n",
    "base_line_model4.evaluate(testds)"
   ]
  },
  {
   "cell_type": "code",
   "execution_count": null,
   "id": "c872e139-1d40-4b4e-927c-ff04c7422861",
   "metadata": {},
   "outputs": [],
   "source": []
  },
  {
   "cell_type": "code",
   "execution_count": null,
   "id": "0f9eaac6-9fd8-4504-a213-3f18c54ea651",
   "metadata": {},
   "outputs": [],
   "source": []
  },
  {
   "cell_type": "markdown",
   "id": "0ef40b1f-64fe-4921-a561-d3aec3c88248",
   "metadata": {},
   "source": [
    "#KFP Lightweight\n",
    "\n",
    "#tc-kfp-lightweight-pipeline-20220317083635\n",
    "\n",
    "- best_accuracy, 0.8048916813470339\n",
    "- best_alpha, 0.022156066144598474\n",
    "- best_max_iter, 1"
   ]
  },
  {
   "cell_type": "code",
   "execution_count": null,
   "id": "feb4aa92-2a3b-4506-9fe1-997ab65089b6",
   "metadata": {},
   "outputs": [],
   "source": []
  },
  {
   "cell_type": "code",
   "execution_count": 57,
   "id": "c7e56b6f-6539-4197-94f4-23de9ac7a3c4",
   "metadata": {},
   "outputs": [],
   "source": [
    "#Prebuilt: tc-kfp-prebuilt-create-endpoint-job\n",
    "#Lightweight: churn_kfp_model_endpoint"
   ]
  },
  {
   "cell_type": "code",
   "execution_count": null,
   "id": "6c07a915-8340-463b-8381-f094f318671c",
   "metadata": {},
   "outputs": [],
   "source": []
  },
  {
   "cell_type": "code",
   "execution_count": 72,
   "id": "e7352378-8762-4f63-b057-794a17ef4463",
   "metadata": {},
   "outputs": [
    {
     "name": "stdout",
     "output_type": "stream",
     "text": [
      "YES: tc-kfp-prebuilt-create-endpoint-job\n",
      "YES: churn_kfp_model_endpoint\n"
     ]
    }
   ],
   "source": [
    "from google.cloud import aiplatform\n",
    "ep_list = aiplatform.Endpoint.list()\n",
    "\n",
    "lightweight_ep = None\n",
    "prebuilt_ep = None\n",
    "for ep in ep_list:\n",
    "    if ep.resource_name == 'projects/1094499562477/locations/us-central1/endpoints/967895687884701696':\n",
    "        lightweight_ep = ep\n",
    "        print(f'YES: {lightweight_ep.display_name}')\n",
    "    \n",
    "    if ep.resource_name == 'projects/1094499562477/locations/us-central1/endpoints/2724299542559195136':\n",
    "        prebuilt_ep = ep\n",
    "        print(f'YES: {prebuilt_ep.display_name}')"
   ]
  },
  {
   "cell_type": "code",
   "execution_count": null,
   "id": "86315ba0-4381-44b6-ad2c-b1033f3c41a3",
   "metadata": {},
   "outputs": [],
   "source": [
    "\n"
   ]
  },
  {
   "cell_type": "code",
   "execution_count": null,
   "id": "e01cb41b-31d9-459d-9ba3-aafb97b4937f",
   "metadata": {},
   "outputs": [],
   "source": [
    "numeric_feature_indexes = slice(0, 10)\n",
    "categorical_feature_indexes = slice(10, 12)"
   ]
  },
  {
   "cell_type": "code",
   "execution_count": 124,
   "id": "0fbea961-edac-49cf-a8b7-b5ff93588549",
   "metadata": {},
   "outputs": [
    {
     "name": "stderr",
     "output_type": "stream",
     "text": [
      "E0317 10:05:41.269233713   21799 fork_posix.cc:70]           Fork support is only compatible with the epoll1 and poll polling strategies\n"
     ]
    },
    {
     "name": "stdout",
     "output_type": "stream",
     "text": [
      "Copying gs://iorek-byrnison/tc-cicd-dir/artfact-store/kfp-prebuilt/20220317090015/model/model.pkl...\n",
      "/ [1 files][  4.8 KiB/  4.8 KiB]                                                \n",
      "Operation completed over 1 objects/4.8 KiB.                                      \n"
     ]
    }
   ],
   "source": [
    "!gsutil cp gs://iorek-byrnison/tc-cicd-dir/artfact-store/kfp-prebuilt/20220317090015/model/model.pkl ."
   ]
  },
  {
   "cell_type": "code",
   "execution_count": 123,
   "id": "21540127-69f6-4f8c-91d2-f9091dd1ef93",
   "metadata": {},
   "outputs": [
    {
     "ename": "FileNotFoundError",
     "evalue": "[Errno 2] No such file or directory: 'gs://iorek-byrnison/tc-cicd-dir/artfact-store/kfp-prebuilt/20220317090015/model/model.pkl'",
     "output_type": "error",
     "traceback": [
      "\u001b[0;31m---------------------------------------------------------------------------\u001b[0m",
      "\u001b[0;31mFileNotFoundError\u001b[0m                         Traceback (most recent call last)",
      "\u001b[0;32m/tmp/ipykernel_21799/2431002754.py\u001b[0m in \u001b[0;36m<module>\u001b[0;34m\u001b[0m\n\u001b[1;32m      1\u001b[0m \u001b[0;32mimport\u001b[0m \u001b[0mpickle\u001b[0m\u001b[0;34m\u001b[0m\u001b[0;34m\u001b[0m\u001b[0m\n\u001b[0;32m----> 2\u001b[0;31m \u001b[0;32mwith\u001b[0m \u001b[0mopen\u001b[0m\u001b[0;34m(\u001b[0m\u001b[0;34m'gs://iorek-byrnison/tc-cicd-dir/artfact-store/kfp-prebuilt/20220317090015/model/model.pkl'\u001b[0m\u001b[0;34m)\u001b[0m \u001b[0;32mas\u001b[0m \u001b[0mf\u001b[0m\u001b[0;34m:\u001b[0m\u001b[0;34m\u001b[0m\u001b[0;34m\u001b[0m\u001b[0m\n\u001b[0m\u001b[1;32m      3\u001b[0m     \u001b[0mpickle\u001b[0m\u001b[0;34m.\u001b[0m\u001b[0mload\u001b[0m\u001b[0;34m(\u001b[0m\u001b[0mf\u001b[0m\u001b[0;34m)\u001b[0m\u001b[0;34m\u001b[0m\u001b[0;34m\u001b[0m\u001b[0m\n",
      "\u001b[0;31mFileNotFoundError\u001b[0m: [Errno 2] No such file or directory: 'gs://iorek-byrnison/tc-cicd-dir/artfact-store/kfp-prebuilt/20220317090015/model/model.pkl'"
     ]
    }
   ],
   "source": [
    "import pickle\n",
    "with open('gs://iorek-byrnison/tc-cicd-dir/artfact-store/kfp-prebuilt/20220317090015/model/model.pkl') as f:\n",
    "    pickle.load(f)"
   ]
  },
  {
   "cell_type": "code",
   "execution_count": 116,
   "id": "e0aa4303-644e-4a01-a3f3-ab47c80c8975",
   "metadata": {},
   "outputs": [],
   "source": [
    "import pandas as pd\n",
    "from trainer.constants import CSV_COLUMNS\n",
    "df_test = pd.read_csv('gs://iorek-byrnison/tc-cicd-dir/data/tc-data/test.csv', header=None, names= CSV_COLUMNS)\n",
    "dict_test = df_test.to_dict(orient='records')\n"
   ]
  },
  {
   "cell_type": "code",
   "execution_count": 120,
   "id": "f5ed05ac-bded-4172-b275-1fcb6b20a611",
   "metadata": {},
   "outputs": [],
   "source": [
    "instance = dict_test[0]\n"
   ]
  },
  {
   "cell_type": "code",
   "execution_count": null,
   "id": "3ead5fad-64a9-4819-a53f-813894c3c839",
   "metadata": {},
   "outputs": [],
   "source": [
    "lightweight_ep.predict([list(instance.values())])"
   ]
  },
  {
   "cell_type": "code",
   "execution_count": null,
   "id": "9333ec0c-fbc8-415b-bfde-f49db5752580",
   "metadata": {},
   "outputs": [],
   "source": []
  },
  {
   "cell_type": "code",
   "execution_count": null,
   "id": "bc9a61b1-f74f-4cb6-890a-f178c9f1ece8",
   "metadata": {},
   "outputs": [],
   "source": [
    "[('customerID', 'key'),\n",
    "     ('gender', 'cat'),\n",
    "     ('SeniorCitizen', 'cat'),\n",
    "     ('Partner', 'cat'),\n",
    "     ('Dependents', 'cat'),\n",
    "     ('tenure', 'num'),\n",
    "     ('PhoneService', 'cat'),\n",
    "     ('MultipleLines', 'cat'),\n",
    "     ('InternetService', 'cat'),\n",
    "     ('OnlineSecurity', 'cat'),\n",
    "     ('OnlineBackup', 'cat'),\n",
    "     ('DeviceProtection', 'cat'),\n",
    "     ('TechSupport', 'cat'),\n",
    "     ('StreamingTV', 'cat'),\n",
    "     ('StreamingMovies', 'cat'),     \n",
    "     ('Contract', 'cat'),\n",
    "     ('PaperlessBilling', 'cat'),\n",
    "     ('PaymentMethod', 'cat'),\n",
    "     ('MonthlyCharges', 'num'),\n",
    "     ('TotalCharges', 'num'),\n",
    "     ('Churn', 'label')]"
   ]
  },
  {
   "cell_type": "code",
   "execution_count": 113,
   "id": "0777054d-2e86-42ce-b9e9-c1b3a177c9d0",
   "metadata": {},
   "outputs": [],
   "source": []
  },
  {
   "cell_type": "code",
   "execution_count": 85,
   "id": "7f986336-ef5c-4c62-aab1-2ee8ede2e3c0",
   "metadata": {},
   "outputs": [
    {
     "data": {
      "text/plain": [
       "{'customerID': '0967-BMLBD',\n",
       " 'gender': 'Female',\n",
       " 'SeniorCitizen': 0,\n",
       " 'Partner': 'Yes',\n",
       " 'Dependents': 'Yes',\n",
       " 'tenure': 11,\n",
       " 'PhoneService': 'Yes',\n",
       " 'MultipleLines': 'No',\n",
       " 'InternetService': 'No',\n",
       " 'OnlineSecurity': 'No internet service',\n",
       " 'OnlineBackup': 'No internet service',\n",
       " 'DeviceProtection': 'No internet service',\n",
       " 'TechSupport': 'No internet service',\n",
       " 'StreamingTV': 'No internet service',\n",
       " 'StreamingMovies': 'No internet service',\n",
       " 'Contract': 'One year',\n",
       " 'PaperlessBilling': 'Yes',\n",
       " 'PaymentMethod': 'Mailed check',\n",
       " 'MonthlyCharges': 20.0,\n",
       " 'TotalCharges': 196.35,\n",
       " 'Churn': 'No'}"
      ]
     },
     "execution_count": 85,
     "metadata": {},
     "output_type": "execute_result"
    }
   ],
   "source": [
    "\n",
    "for instance in dict_test:\n",
    "    endpoint.predict([instance])"
   ]
  }
 ],
 "metadata": {
  "environment": {
   "kernel": "python3",
   "name": "tf2-gpu.2-6.m90",
   "type": "gcloud",
   "uri": "gcr.io/deeplearning-platform-release/tf2-gpu.2-6:m90"
  },
  "kernelspec": {
   "display_name": "Python 3",
   "language": "python",
   "name": "python3"
  },
  "language_info": {
   "codemirror_mode": {
    "name": "ipython",
    "version": 3
   },
   "file_extension": ".py",
   "mimetype": "text/x-python",
   "name": "python",
   "nbconvert_exporter": "python",
   "pygments_lexer": "ipython3",
   "version": "3.7.12"
  }
 },
 "nbformat": 4,
 "nbformat_minor": 5
}
